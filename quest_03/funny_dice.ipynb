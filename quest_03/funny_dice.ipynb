{
 "cells": [
  {
   "cell_type": "code",
   "execution_count": 2,
   "id": "c683437b",
   "metadata": {},
   "outputs": [],
   "source": [
    "# Built-in Modules\n",
    "from random import randrange"
   ]
  },
  {
   "cell_type": "code",
   "execution_count": 23,
   "id": "130538e2",
   "metadata": {},
   "outputs": [],
   "source": [
    "class FunnyDice:\n",
    "    def __init__(self, n=6):\n",
    "        \"\"\"생성자\n",
    "        Args:\n",
    "            n (int): 주사위의 최대값. 기본값은 6\n",
    "        \"\"\"\n",
    "        self.n = int(n) # 객체 생성 시 입력한 값을 정수화\n",
    "        self.val = self.throw() # 주사위 초기값 생성\n",
    "    \n",
    "    def throw(self):\n",
    "        \"\"\"주사위 굴리기 메소드     \n",
    "        \"\"\"\n",
    "        self.val = randrange(1, self.n + 1) # 주사위 값의 범위는 1부터 입력한 값까지(randrange(start, end-1))\n",
    "    \n",
    "    def get_val(self):\n",
    "        \"\"\"주사위 값 가져오기\n",
    "        returns:\n",
    "            int: 결정된 주사위의 값 반환\n",
    "        \"\"\"\n",
    "        return self.val\n"
   ]
  },
  {
   "cell_type": "code",
   "execution_count": 73,
   "id": "8361ef8a",
   "metadata": {},
   "outputs": [],
   "source": [
    "def get_inputs():\n",
    "    \"\"\"주사위 면의 개수 입력 메소드\n",
    "    returns:\n",
    "        n (int): 주사위 면의 개수\n",
    "    \"\"\"\n",
    "    while True:\n",
    "        is_error = False    # 에러 발생 확인용 불리언        \n",
    "        try: # 입력값에 대한 예외처리\n",
    "            n = int(input(\"주사위 면의 개수를 입력하세요: \"))\n",
    "            if (1 >= n): # 입력값이 1 이하이면 에러 발생\n",
    "                print('(주의!) 주사위 면은 최소 2개 이상이어야 합니다.')\n",
    "                is_error = True\n",
    "        except ValueError: # 입력값이 정수가 아니면 에러 발생\n",
    "            print('(주의!) 정수만 입력해 주세요.')\n",
    "            is_error = True\n",
    "        \n",
    "        if is_error == False: # 에러가 없으면 입력 완료 (에러 있으면 다시 입력절차 반복)\n",
    "            break\n",
    "        \n",
    "    return n"
   ]
  },
  {
   "cell_type": "code",
   "execution_count": 74,
   "id": "510fbc6d",
   "metadata": {},
   "outputs": [],
   "source": [
    "def main():\n",
    "    n = get_inputs() # 주사위 면의 개수 입력받기\n",
    "    my_dice = FunnyDice(n) # n면을 갖는 주사위 인스턴스 생성\n",
    "    my_dice.throw() # 주사위 굴리기\n",
    "    print(f'주사위 값: {my_dice.get_val()}') # 주사위 값 확인"
   ]
  },
  {
   "cell_type": "code",
   "execution_count": 75,
   "id": "82e2538a",
   "metadata": {},
   "outputs": [
    {
     "name": "stdout",
     "output_type": "stream",
     "text": [
      "주사위 면의 개수를 입력하세요: 1\n",
      "(주의!) 주사위 면은 최소 2개 이상이어야 합니다.\n",
      "주사위 면의 개수를 입력하세요: abc\n",
      "(주의!) 정수만 입력해 주세요.\n",
      "주사위 면의 개수를 입력하세요: 12\n",
      "주사위 값: 7\n"
     ]
    }
   ],
   "source": [
    "if __name__ == '__main__':\n",
    "    main()"
   ]
  },
  {
   "cell_type": "code",
   "execution_count": 76,
   "id": "1190eab7",
   "metadata": {},
   "outputs": [],
   "source": [
    "# 프로젝트 회고: \n",
    "# 나만의 n면체 주사위를 만들면서 가장 신경쓴 부분은 사용자의 입력값에 따라 발생할 수 있는 에러를 예외처리하는 부분이다.\n",
    "# 주사위의 시작 값이 1부터 시작하기 때문에 만약 1 이하의 값을 입력하면 randrange()에서 에러가 발생하고\n",
    "# 정수가 아닌 값(예를 들면 문자열)을 입력하면 int() 에서 에러가 발생하기 때문이다.\n",
    "# 이를 위해 LMS에서 배운 try-execpt 구문을 사용하여 예외처리를 하였다."
   ]
  },
  {
   "cell_type": "code",
   "execution_count": null,
   "id": "9211c384",
   "metadata": {},
   "outputs": [],
   "source": []
  }
 ],
 "metadata": {
  "kernelspec": {
   "display_name": "Python 3 (ipykernel)",
   "language": "python",
   "name": "python3"
  },
  "language_info": {
   "codemirror_mode": {
    "name": "ipython",
    "version": 3
   },
   "file_extension": ".py",
   "mimetype": "text/x-python",
   "name": "python",
   "nbconvert_exporter": "python",
   "pygments_lexer": "ipython3",
   "version": "3.9.7"
  }
 },
 "nbformat": 4,
 "nbformat_minor": 5
}
