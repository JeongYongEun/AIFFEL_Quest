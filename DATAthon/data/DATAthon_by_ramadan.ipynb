{
 "cells": [
  {
   "cell_type": "markdown",
   "id": "12b32cfd",
   "metadata": {},
   "source": [
    "# San Francisco Crime Classification"
   ]
  },
  {
   "cell_type": "markdown",
   "id": "405791d4",
   "metadata": {},
   "source": [
    "## 📌 데이터셋 소개\n",
    "\n",
    "**2013년 1월부터 2015년 5월까지 샌프란시스코에서 발생한 범죄 데이터**\n",
    "\n",
    "- Dates: 범죄 발생 시간\n",
    "- Category: 범죄 카테고리\n",
    "- Descript: 해당 사건에 대한 설명\n",
    "- DayOfWeek: 사건이 발생한 요일\n",
    "- PdDistrict: 관할 경찰서\n",
    "- Resolution: 해결 방법\n",
    "- Address: 범죄 장소\n",
    "- X: 위도\n",
    "- Y: 경도"
   ]
  },
  {
   "cell_type": "markdown",
   "id": "4babc4a8",
   "metadata": {},
   "source": [
    "### 최종 분석 목표 : 샌프란시스코 범죄 데이터 분석을 이용하여 거리 범죄를 낮추기 위한 방안 마련\n",
    ">\n",
    "> - 특정 지역에서 범죄가 발생할 경우... 어떤 카테고리에 속한 범죄일지? \n",
    "시간 장소 등을 이용해서 카테고리를 찾는거 -> 분류 문제\n",
    "\n",
    "> - 특정 장소 특정 지역 순찰조 편성 : 어느 관할서가, 어떤 요일/시간에, 어떤 범죄를 위주로 예방하기 위해 효율적으로 순찰할 것인지\n",
    "지도 출력해서 관할서 위치도 찾아서 표시하고\n",
    "요일/ 시간 분석해서 어떤 범죄가 일어나는지 표시하고\n",
    "표시된거 바탕으로 순찰조 위치 표시 시간대 인원수 "
   ]
  },
  {
   "cell_type": "markdown",
   "id": "515b88eb",
   "metadata": {},
   "source": [
    "## 라이브러리 불러오기"
   ]
  },
  {
   "cell_type": "code",
   "execution_count": 1,
   "id": "4d6c7f3b",
   "metadata": {},
   "outputs": [],
   "source": [
    "import pandas as pd\n",
    "import numpy as np\n",
    "import os"
   ]
  },
  {
   "cell_type": "markdown",
   "id": "733363a7",
   "metadata": {},
   "source": [
    "## 1차 데이터 전처리"
   ]
  },
  {
   "cell_type": "code",
   "execution_count": 2,
   "id": "33d24f94",
   "metadata": {},
   "outputs": [
    {
     "name": "stdout",
     "output_type": "stream",
     "text": [
      "878049\n"
     ]
    }
   ],
   "source": [
    "# 데이터 불러오기\n",
    "path = os.getenv('HOME') + '/aiffel/project_code/Datatone'\n",
    "data = pd.read_csv(path + \"/train.csv\")\n",
    "\n",
    "# 데이터 갯수 출력\n",
    "print(data.shape[0])"
   ]
  },
  {
   "cell_type": "code",
   "execution_count": 3,
   "id": "e46724a3",
   "metadata": {},
   "outputs": [
    {
     "name": "stdout",
     "output_type": "stream",
     "text": [
      "<class 'pandas.core.frame.DataFrame'>\n",
      "RangeIndex: 878049 entries, 0 to 878048\n",
      "Data columns (total 9 columns):\n",
      " #   Column      Non-Null Count   Dtype  \n",
      "---  ------      --------------   -----  \n",
      " 0   Dates       878049 non-null  object \n",
      " 1   Category    878049 non-null  object \n",
      " 2   Descript    878049 non-null  object \n",
      " 3   DayOfWeek   878049 non-null  object \n",
      " 4   PdDistrict  878049 non-null  object \n",
      " 5   Resolution  878049 non-null  object \n",
      " 6   Address     878049 non-null  object \n",
      " 7   X           878049 non-null  float64\n",
      " 8   Y           878049 non-null  float64\n",
      "dtypes: float64(2), object(7)\n",
      "memory usage: 60.3+ MB\n"
     ]
    }
   ],
   "source": [
    "# 데이터 정보 출력하기\n",
    "data.info()"
   ]
  },
  {
   "cell_type": "code",
   "execution_count": 4,
   "id": "e27b7da1",
   "metadata": {},
   "outputs": [
    {
     "data": {
      "text/plain": [
       "Dates         0\n",
       "Category      0\n",
       "Descript      0\n",
       "DayOfWeek     0\n",
       "PdDistrict    0\n",
       "Resolution    0\n",
       "Address       0\n",
       "X             0\n",
       "Y             0\n",
       "dtype: int64"
      ]
     },
     "execution_count": 4,
     "metadata": {},
     "output_type": "execute_result"
    }
   ],
   "source": [
    "# 결측치 처리하기\n",
    "data.isnull().sum()"
   ]
  },
  {
   "cell_type": "markdown",
   "id": "83796457",
   "metadata": {},
   "source": [
    "#### 결측치 없음"
   ]
  },
  {
   "cell_type": "code",
   "execution_count": 5,
   "id": "2bae8aff",
   "metadata": {},
   "outputs": [
    {
     "name": "stdout",
     "output_type": "stream",
     "text": [
      "중복값 개수 :  2323\n"
     ]
    }
   ],
   "source": [
    "# 중복값 확인하기\n",
    "print(\"중복값 개수 : \", data.duplicated().sum())"
   ]
  },
  {
   "cell_type": "code",
   "execution_count": 6,
   "id": "78e79b8d",
   "metadata": {},
   "outputs": [
    {
     "name": "stdout",
     "output_type": "stream",
     "text": [
      "남은 데이터 수 875726\n"
     ]
    }
   ],
   "source": [
    "# 중복값 제거하기\n",
    "data.drop_duplicates(inplace = True)\n",
    "\n",
    "# 중복 처리 후 데이터 갯수 확인\n",
    "print(\"남은 데이터 수\", data.shape[0])"
   ]
  },
  {
   "cell_type": "code",
   "execution_count": 7,
   "id": "495e6b7c",
   "metadata": {},
   "outputs": [],
   "source": [
    "# string -> datetime 형태로 변환\n",
    "data['Dates'] = pd.to_datetime(data['Dates'])\n",
    "\n",
    "# 'Dates' 열 년, 월, 일, 시로 분리\n",
    "data['Year'] = data['Dates'].dt.year\n",
    "data['Month'] = data['Dates'].dt.month\n",
    "data['Day'] = data['Dates'].dt.day\n",
    "data['Hour'] = data['Dates'].dt.hour\n",
    "data['Minute'] = data['Dates'].dt.minute\n",
    "data['Second'] = data['Dates'].dt.second"
   ]
  },
  {
   "cell_type": "code",
   "execution_count": 8,
   "id": "2f91d878",
   "metadata": {},
   "outputs": [
    {
     "data": {
      "text/html": [
       "<div>\n",
       "<style scoped>\n",
       "    .dataframe tbody tr th:only-of-type {\n",
       "        vertical-align: middle;\n",
       "    }\n",
       "\n",
       "    .dataframe tbody tr th {\n",
       "        vertical-align: top;\n",
       "    }\n",
       "\n",
       "    .dataframe thead th {\n",
       "        text-align: right;\n",
       "    }\n",
       "</style>\n",
       "<table border=\"1\" class=\"dataframe\">\n",
       "  <thead>\n",
       "    <tr style=\"text-align: right;\">\n",
       "      <th></th>\n",
       "      <th>Year</th>\n",
       "      <th>Month</th>\n",
       "      <th>Day</th>\n",
       "      <th>Hour</th>\n",
       "      <th>Minute</th>\n",
       "      <th>Second</th>\n",
       "    </tr>\n",
       "  </thead>\n",
       "  <tbody>\n",
       "    <tr>\n",
       "      <th>0</th>\n",
       "      <td>2015</td>\n",
       "      <td>5</td>\n",
       "      <td>13</td>\n",
       "      <td>23</td>\n",
       "      <td>53</td>\n",
       "      <td>0</td>\n",
       "    </tr>\n",
       "    <tr>\n",
       "      <th>1</th>\n",
       "      <td>2015</td>\n",
       "      <td>5</td>\n",
       "      <td>13</td>\n",
       "      <td>23</td>\n",
       "      <td>53</td>\n",
       "      <td>0</td>\n",
       "    </tr>\n",
       "    <tr>\n",
       "      <th>2</th>\n",
       "      <td>2015</td>\n",
       "      <td>5</td>\n",
       "      <td>13</td>\n",
       "      <td>23</td>\n",
       "      <td>33</td>\n",
       "      <td>0</td>\n",
       "    </tr>\n",
       "    <tr>\n",
       "      <th>3</th>\n",
       "      <td>2015</td>\n",
       "      <td>5</td>\n",
       "      <td>13</td>\n",
       "      <td>23</td>\n",
       "      <td>30</td>\n",
       "      <td>0</td>\n",
       "    </tr>\n",
       "    <tr>\n",
       "      <th>4</th>\n",
       "      <td>2015</td>\n",
       "      <td>5</td>\n",
       "      <td>13</td>\n",
       "      <td>23</td>\n",
       "      <td>30</td>\n",
       "      <td>0</td>\n",
       "    </tr>\n",
       "    <tr>\n",
       "      <th>...</th>\n",
       "      <td>...</td>\n",
       "      <td>...</td>\n",
       "      <td>...</td>\n",
       "      <td>...</td>\n",
       "      <td>...</td>\n",
       "      <td>...</td>\n",
       "    </tr>\n",
       "    <tr>\n",
       "      <th>878044</th>\n",
       "      <td>2003</td>\n",
       "      <td>1</td>\n",
       "      <td>6</td>\n",
       "      <td>0</td>\n",
       "      <td>15</td>\n",
       "      <td>0</td>\n",
       "    </tr>\n",
       "    <tr>\n",
       "      <th>878045</th>\n",
       "      <td>2003</td>\n",
       "      <td>1</td>\n",
       "      <td>6</td>\n",
       "      <td>0</td>\n",
       "      <td>1</td>\n",
       "      <td>0</td>\n",
       "    </tr>\n",
       "    <tr>\n",
       "      <th>878046</th>\n",
       "      <td>2003</td>\n",
       "      <td>1</td>\n",
       "      <td>6</td>\n",
       "      <td>0</td>\n",
       "      <td>1</td>\n",
       "      <td>0</td>\n",
       "    </tr>\n",
       "    <tr>\n",
       "      <th>878047</th>\n",
       "      <td>2003</td>\n",
       "      <td>1</td>\n",
       "      <td>6</td>\n",
       "      <td>0</td>\n",
       "      <td>1</td>\n",
       "      <td>0</td>\n",
       "    </tr>\n",
       "    <tr>\n",
       "      <th>878048</th>\n",
       "      <td>2003</td>\n",
       "      <td>1</td>\n",
       "      <td>6</td>\n",
       "      <td>0</td>\n",
       "      <td>1</td>\n",
       "      <td>0</td>\n",
       "    </tr>\n",
       "  </tbody>\n",
       "</table>\n",
       "<p>875726 rows × 6 columns</p>\n",
       "</div>"
      ],
      "text/plain": [
       "        Year  Month  Day  Hour  Minute  Second\n",
       "0       2015      5   13    23      53       0\n",
       "1       2015      5   13    23      53       0\n",
       "2       2015      5   13    23      33       0\n",
       "3       2015      5   13    23      30       0\n",
       "4       2015      5   13    23      30       0\n",
       "...      ...    ...  ...   ...     ...     ...\n",
       "878044  2003      1    6     0      15       0\n",
       "878045  2003      1    6     0       1       0\n",
       "878046  2003      1    6     0       1       0\n",
       "878047  2003      1    6     0       1       0\n",
       "878048  2003      1    6     0       1       0\n",
       "\n",
       "[875726 rows x 6 columns]"
      ]
     },
     "execution_count": 8,
     "metadata": {},
     "output_type": "execute_result"
    }
   ],
   "source": [
    "# 'Dates' 열 변환 확인\n",
    "data[['Year','Month','Day','Hour','Minute','Second']]"
   ]
  },
  {
   "cell_type": "markdown",
   "id": "9ef5ff11",
   "metadata": {},
   "source": [
    "### 데이터 전처리 정리\n",
    ">\n",
    "> - 결측치 없음\n",
    "> - 중복값 2323개 제거\n",
    "> - 'Dates'열 시간 단위 별로 분리"
   ]
  },
  {
   "cell_type": "markdown",
   "id": "9fc80195",
   "metadata": {},
   "source": [
    "## 데이터 EDA + 2차 데이터 전처리"
   ]
  },
  {
   "cell_type": "code",
   "execution_count": 9,
   "id": "e8720303",
   "metadata": {},
   "outputs": [
    {
     "data": {
      "text/plain": [
       "LARCENY/THEFT                  174320\n",
       "OTHER OFFENSES                 125960\n",
       "NON-CRIMINAL                    91915\n",
       "ASSAULT                         76815\n",
       "DRUG/NARCOTIC                   53919\n",
       "VEHICLE THEFT                   53706\n",
       "VANDALISM                       44581\n",
       "WARRANTS                        42145\n",
       "BURGLARY                        36600\n",
       "SUSPICIOUS OCC                  31394\n",
       "MISSING PERSON                  25669\n",
       "ROBBERY                         22988\n",
       "FRAUD                           16637\n",
       "FORGERY/COUNTERFEITING          10592\n",
       "SECONDARY CODES                  9979\n",
       "WEAPON LAWS                      8550\n",
       "PROSTITUTION                     7446\n",
       "TRESPASS                         7318\n",
       "STOLEN PROPERTY                  4537\n",
       "SEX OFFENSES FORCIBLE            4380\n",
       "DISORDERLY CONDUCT               4313\n",
       "DRUNKENNESS                      4277\n",
       "RECOVERED VEHICLE                3132\n",
       "KIDNAPPING                       2340\n",
       "DRIVING UNDER THE INFLUENCE      2268\n",
       "LIQUOR LAWS                      1899\n",
       "RUNAWAY                          1894\n",
       "ARSON                            1512\n",
       "LOITERING                        1207\n",
       "EMBEZZLEMENT                     1164\n",
       "SUICIDE                           508\n",
       "FAMILY OFFENSES                   488\n",
       "BAD CHECKS                        406\n",
       "BRIBERY                           289\n",
       "EXTORTION                         256\n",
       "SEX OFFENSES NON FORCIBLE         148\n",
       "GAMBLING                          146\n",
       "PORNOGRAPHY/OBSCENE MAT            22\n",
       "TREA                                6\n",
       "Name: Category, dtype: int64"
      ]
     },
     "execution_count": 9,
     "metadata": {},
     "output_type": "execute_result"
    }
   ],
   "source": [
    "# 범죄 카테고리 확인\n",
    "data['Category'].value_counts()"
   ]
  },
  {
   "cell_type": "markdown",
   "id": "8cde062d",
   "metadata": {},
   "source": [
    "## 범죄 카테고리 번역\n",
    "> - LARCENY/THEFT - 절도(경범죄)\n",
    "> - OTHER OFFENSES - 기타 범죄\n",
    "> - NON-CRIMINAL - 비범죄\n",
    "> - ASSAULT - 폭행\n",
    "> - DRUG/NARCOTIC - 마약/마약류\n",
    "> - VEHICLE THEFT - 차량 절도\n",
    "> - VANDALISM - 기물 파손\n",
    "> - WARRANTS - 구속\n",
    "> - BURGLARY - 절도(중범죄)\n",
    "> - SUSPICIOUS OCC - 의심스러운 사건\n",
    "> - MISSING PERSON - 실종\n",
    "> - ROBBERY - 강도\n",
    "> - FRAUD - 사기\n",
    "> - FORGERY/COUNTERFEITING - 위조/위조품\n",
    "> - SECONDARY CODES - 2차적 배경들이 있는 사건\n",
    "> - WEAPON LAWS - 총기 사고\n",
    "> - PROSTITUTION - 매춘\n",
    "> - TRESPASS - 무단 침입\n",
    "> - STOLEN PROPERTY - 도난당한 재산\n",
    "> - SEX OFFENSES FORCIBLE - 강제 성범죄\n",
    "> - DISORDERLY CONDUCT - 문란행위\n",
    "> - DRUNKENNESS - 음주\n",
    "> - RECOVERED VEHICLE - 차량 탈취\n",
    "> - KIDNAPPING - 납치\n",
    "> - DRIVING UNDER THE INFLUENCE - 음주운전\n",
    "> - LIQUOR LAWS - 주류 관련 법규 위반\n",
    "> - RUNAWAY - 가출\n",
    "> - ARSON - 방화\n",
    "> - LOITERING - 의심스로운 배회 및 방황\n",
    "> - EMBEZZLEMENT - 횡령\n",
    "> - SUICIDE - 자살\n",
    "> - FAMILY OFFENSES - 가족 관련 범죄\n",
    "> - BAD CHECKS - 부도 수표\n",
    "> - BRIBERY - 뇌물\n",
    "> - EXTORTION - 갈취\n",
    "> - SEX OFFENSES NON FORCIBLE - 강제가 아닌 성범죄\n",
    "> - GAMBLING - 도박\n",
    "> - PORNOGRAPHY/OBSCENE MAT - 음란행위, 외설행위\n",
    "> - TREA - 무단침입"
   ]
  },
  {
   "cell_type": "markdown",
   "id": "4a9da108",
   "metadata": {},
   "source": [
    "### 주제와 벗어나는 범죄 리스트\n",
    "- NON-CRIMINAL, WARRANTS, SUSPICIOUS OCC, FRAUD, FORGERY/COUNTERFEITING, SECONDARY CODES, PROSTITUTION, DRIVING UNDER THE INFLUENCE, LIQUOR LAWS, RUNAWAY, EMBEZZLEMENT, SUICIDE, BAD CHECKS, BRIBERY, GAMBLING"
   ]
  },
  {
   "cell_type": "code",
   "execution_count": 13,
   "id": "7d14a869",
   "metadata": {},
   "outputs": [
    {
     "data": {
      "text/plain": [
       "LARCENY/THEFT                174320\n",
       "OTHER OFFENSES               125960\n",
       "ASSAULT                       76815\n",
       "DRUG/NARCOTIC                 53919\n",
       "VEHICLE THEFT                 53706\n",
       "VANDALISM                     44581\n",
       "BURGLARY                      36600\n",
       "MISSING PERSON                25669\n",
       "ROBBERY                       22988\n",
       "WEAPON LAWS                    8550\n",
       "TRESPASS                       7318\n",
       "STOLEN PROPERTY                4537\n",
       "SEX OFFENSES FORCIBLE          4380\n",
       "DISORDERLY CONDUCT             4313\n",
       "DRUNKENNESS                    4277\n",
       "RECOVERED VEHICLE              3132\n",
       "KIDNAPPING                     2340\n",
       "ARSON                          1512\n",
       "LOITERING                      1207\n",
       "FAMILY OFFENSES                 488\n",
       "EXTORTION                       256\n",
       "SEX OFFENSES NON FORCIBLE       148\n",
       "PORNOGRAPHY/OBSCENE MAT          22\n",
       "TREA                              6\n",
       "Name: Category, dtype: int64"
      ]
     },
     "execution_count": 13,
     "metadata": {},
     "output_type": "execute_result"
    }
   ],
   "source": [
    "# 거리 범죄만 남기기\n",
    "drop_crimes = ['NON-CRIMINAL', 'WARRANTS', 'SUSPICIOUS OCC', 'FRAUD', 'FORGERY/COUNTERFEITING', 'SECONDARY CODES', 'PROSTITUTION', 'DRIVING UNDER THE INFLUENCE', 'LIQUOR LAWS', 'RUNAWAY', 'EMBEZZLEMENT', 'SUICIDE', 'BAD CHECKS', 'BRIBERY', 'GAMBLING']\n",
    "\n",
    "city_crimes = data[~data['Category'].isin(drop_crimes)]\n",
    "city_crimes['Category'].value_counts()"
   ]
  },
  {
   "cell_type": "code",
   "execution_count": 14,
   "id": "cd7d1010",
   "metadata": {},
   "outputs": [
    {
     "name": "stdout",
     "output_type": "stream",
     "text": [
      "남은 데이터 수 657044\n"
     ]
    }
   ],
   "source": [
    "print(\"남은 데이터 수\", city_crimes.shape[0])"
   ]
  },
  {
   "cell_type": "markdown",
   "id": "6a1a63e1",
   "metadata": {},
   "source": [
    "## 1번"
   ]
  },
  {
   "cell_type": "markdown",
   "id": "0e07559a",
   "metadata": {},
   "source": [
    "## 2번"
   ]
  },
  {
   "cell_type": "markdown",
   "id": "9cac5433",
   "metadata": {},
   "source": [
    "## 3번"
   ]
  },
  {
   "cell_type": "markdown",
   "id": "626db0ff",
   "metadata": {},
   "source": [
    "## 4번"
   ]
  },
  {
   "cell_type": "markdown",
   "id": "84276c62",
   "metadata": {},
   "source": [
    "## 최종 결론"
   ]
  }
 ],
 "metadata": {
  "kernelspec": {
   "display_name": "Python 3 (ipykernel)",
   "language": "python",
   "name": "python3"
  },
  "language_info": {
   "codemirror_mode": {
    "name": "ipython",
    "version": 3
   },
   "file_extension": ".py",
   "mimetype": "text/x-python",
   "name": "python",
   "nbconvert_exporter": "python",
   "pygments_lexer": "ipython3",
   "version": "3.9.7"
  }
 },
 "nbformat": 4,
 "nbformat_minor": 5
}
